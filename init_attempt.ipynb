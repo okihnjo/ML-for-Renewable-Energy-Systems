{
 "cells": [
  {
   "cell_type": "code",
   "execution_count": null,
   "metadata": {},
   "outputs": [],
   "source": [
    "import pandas as pd\n",
    "import numpy as np\n",
    "import matplotlib.pyplot as plt\n",
    "import os\n",
    "import math"
   ]
  },
  {
   "cell_type": "code",
   "execution_count": null,
   "metadata": {},
   "outputs": [],
   "source": []
  },
  {
   "cell_type": "code",
   "execution_count": null,
   "metadata": {},
   "outputs": [],
   "source": [
    "\n",
    "files = []\n",
    "for file in os.listdir('data'):\n",
    "    if file.endswith('.csv'):\n",
    "        files.append(file)\n",
    "print(files)"
   ]
  },
  {
   "cell_type": "code",
   "execution_count": null,
   "metadata": {},
   "outputs": [],
   "source": [
    "df = pd.read_csv('data/' + files[0])"
   ]
  },
  {
   "cell_type": "code",
   "execution_count": null,
   "metadata": {},
   "outputs": [],
   "source": [
    "df"
   ]
  },
  {
   "cell_type": "code",
   "execution_count": null,
   "metadata": {},
   "outputs": [],
   "source": [
    "plt.scatter(x=df['longitude'], y=df['latitude'])\n",
    "plt.show()"
   ]
  },
  {
   "cell_type": "code",
   "execution_count": null,
   "metadata": {},
   "outputs": [],
   "source": [
    "import geopandas as gpd\n",
    "from shapely.geometry import Point\n",
    "path_to_germany = \"./data/vg2500_geo84/vg2500_bld.shp\"\n",
    "germany_gdf = gpd.read_file(path_to_germany)"
   ]
  },
  {
   "cell_type": "code",
   "execution_count": null,
   "metadata": {},
   "outputs": [],
   "source": [
    "germany_gdf.plot()"
   ]
  },
  {
   "cell_type": "code",
   "execution_count": null,
   "metadata": {},
   "outputs": [],
   "source": [
    "print(\"CRS for Germany shapefile:\", germany_gdf.crs)"
   ]
  },
  {
   "cell_type": "code",
   "execution_count": null,
   "metadata": {},
   "outputs": [],
   "source": [
    "geometry = [Point(xy) for xy in zip(df.longitude, df.latitude)]\n",
    "geo_df = gpd.GeoDataFrame(df, geometry=geometry)"
   ]
  },
  {
   "cell_type": "code",
   "execution_count": null,
   "metadata": {},
   "outputs": [],
   "source": [
    "geo_df.set_crs(germany_gdf.crs, inplace=True)"
   ]
  },
  {
   "cell_type": "code",
   "execution_count": null,
   "metadata": {},
   "outputs": [],
   "source": [
    "fig, ax = plt.subplots()\n",
    "germany_gdf.plot(ax=ax, color='lightgrey')\n",
    "\n",
    "geo_df.plot(ax=ax, marker='o', color='red', markersize=5)\n",
    "\n",
    "plt.show()"
   ]
  },
  {
   "cell_type": "markdown",
   "metadata": {},
   "source": [
    "## Convert datetimes (column time)"
   ]
  },
  {
   "cell_type": "code",
   "execution_count": null,
   "metadata": {},
   "outputs": [],
   "source": [
    "df[\"timestamps\"] = pd.to_datetime(df[\"time\"])\n",
    "df[\"epoch_time\"] = (df['timestamps'] - pd.Timestamp(\"1970-01-01\")) // pd.Timedelta('1s')\n",
    "df = df.drop(columns=[\"timestamps\"])\n",
    "print(\"DataFrame with Epoch Time:\")\n",
    "df"
   ]
  },
  {
   "cell_type": "code",
   "execution_count": null,
   "metadata": {},
   "outputs": [],
   "source": [
    "df[\"windspeed\"] = np.sqrt(df['u10']**2 + df['v10']**2)"
   ]
  },
  {
   "cell_type": "code",
   "execution_count": null,
   "metadata": {},
   "outputs": [],
   "source": [
    "df"
   ]
  },
  {
   "cell_type": "code",
   "execution_count": null,
   "metadata": {},
   "outputs": [],
   "source": [
    "df.groupby([\"forecast_origin\"]).agg({\"windspeed\": [\"sum\", \"std\"]})"
   ]
  },
  {
   "cell_type": "code",
   "execution_count": null,
   "metadata": {},
   "outputs": [],
   "source": [
    "df.columns"
   ]
  },
  {
   "cell_type": "markdown",
   "metadata": {},
   "source": [
    "- **longitude, latitude**: Geografische Längen- und Breitengrade der Messpunkte oder Prognosepunkte.\n",
    "\n",
    "- **forecast_origin**: Datum und Uhrzeit, wann die Wettervorhersage erstellt wurde.\n",
    "\n",
    "- **time**: Datum und Uhrzeit, für die die Wettervorhersage gilt.\n",
    "\n",
    "- **cdir**: Oft eine Abkürzung für „Cloud Direction“ oder „Convection Direction“, die die Windrichtung in bestimmten Höhen angibt.\n",
    "\n",
    "- **z**: Normalerweise die geopotentielle Höhe, die die Höhe über dem Meeresspiegel in Bezug auf das geopotentielle Niveau anstelle des tatsächlichen Abstands angibt.\n",
    "\n",
    "- **msl**: \"Mean Sea Level Pressure\", also der mittlere Luftdruck auf Meereshöhe.\n",
    "\n",
    "- **blh**: \"Boundary Layer Height\", die Höhe der atmosphärischen Grenzschicht, was wichtig für viele Prozesse in der Meteorologie ist.\n",
    "\n",
    "- **tcc**: \"Total Cloud Cover\", der gesamte Wolkenbedeckungsgrad, ausgedrückt als Prozentsatz oder Bruchteil.\n",
    "\n",
    "- **u10, v10**: Windkomponenten (u und v) in 10 Metern Höhe. „u“ ist die Ost-West-Komponente und „v“ die Nord-Süd-Komponente.\n",
    "\n",
    "- **t2m**: \"Temperature at 2 meters\", die Lufttemperatur in 2 Metern Höhe über dem Boden.\n",
    "\n",
    "- **ssr**: \"Surface Solar Radiation\", die auf die Erdoberfläche eingestrahlte Sonnenenergie.\n",
    "\n",
    "- **tsr**: \"Top of Atmosphere Solar Radiation\", die am oberen Rand der Atmosphäre eingestrahlte Sonnenenergie.\n",
    "\n",
    "- **sund**: Wahrscheinlich eine Abkürzung für die Anzahl der Sonnenstunden oder Sonnendauer.\n",
    "\n",
    "- **tp**: \"Total Precipitation\", die Gesamtniederschlagsmenge über einen bestimmten Zeitraum.\n",
    "\n",
    "- **fsr**: Oft steht dies für \"Forecast Solar Radiation\", also die vorhergesagte Sonneneinstrahlung.\n",
    "\n",
    "- **u100, v100**: Ähnlich wie u10 und v10, aber für Windkomponenten in 100 Metern Höhe.\n"
   ]
  },
  {
   "cell_type": "markdown",
   "metadata": {},
   "source": [
    "## Lets plot the windspeed throughout the year"
   ]
  },
  {
   "cell_type": "code",
   "execution_count": null,
   "metadata": {},
   "outputs": [],
   "source": [
    "import plotly.graph_objects as go\n"
   ]
  },
  {
   "cell_type": "code",
   "execution_count": null,
   "metadata": {},
   "outputs": [],
   "source": [
    "fig = go.Figure()\n",
    "x_axis = df[\"time\"]\n",
    "\n",
    "fig.add_trace(go.Scatter(x=x_axis, y=df.windspeed,\n",
    "                    mode='lines',\n",
    "                    name='windspeed'))\n",
    "fig.add_trace(go.Scatter(x=x_axis, y=df.ssr,\n",
    "                    mode='lines',\n",
    "                    name='solar'))\n",
    "\n",
    "fig.show()\n",
    "\n",
    "\n",
    "\n"
   ]
  },
  {
   "cell_type": "markdown",
   "metadata": {},
   "source": [
    "## Nichts lineares \n",
    "- Mehr Wind muss nicht mehr Energie heissen - Turbinen hab kapa\n",
    "- Solar ebenso - ab 25 Grad (?) Limit erreicht, danach decrease glaub"
   ]
  },
  {
   "cell_type": "markdown",
   "metadata": {},
   "source": [
    "# Unsere Aufgabe\n",
    "Predicte wind und solar für die nächste Stunde anhand\n",
    "- Variablen suchen wir aus ? Wir haben aber den jetzigen Stand gegeben ?\n",
    "    - Sprich Uhrzeit, jetzigen Wind, wo wir uns befinden, Monat, wie Wind hatten wir davor ?\n",
    "- Dürfen wir selber Daten anreichern ? Wetter daten w.r.t Sonne, re"
   ]
  },
  {
   "cell_type": "markdown",
   "metadata": {},
   "source": [
    "----------"
   ]
  },
  {
   "cell_type": "code",
   "execution_count": null,
   "metadata": {},
   "outputs": [],
   "source": [
    "import seaborn as sns\n",
    "from statsmodels.tsa.seasonal import seasonal_decompose"
   ]
  },
  {
   "cell_type": "code",
   "execution_count": null,
   "metadata": {},
   "outputs": [],
   "source": [
    "df_solar = df[[\"time\", \"ssr\"]]\n",
    "df_solar[\"time\"]= pd.to_datetime(df_solar[\"time\"])\n",
    "df_solar['month_year'] = df_solar['time'].dt.strftime('%m-%Y')\n",
    "df_solar.sort_values(by=\"time\", inplace=True)\n",
    "df_solar = df_solar.drop(columns=[\"time\"])\n"
   ]
  },
  {
   "cell_type": "code",
   "execution_count": null,
   "metadata": {},
   "outputs": [],
   "source": [
    "df_solar[df_solar[\"month_year\"]==\"06-2020\"]"
   ]
  },
  {
   "cell_type": "code",
   "execution_count": null,
   "metadata": {},
   "outputs": [],
   "source": [
    "result = seasonal_decompose(x= df_solar[\"ssr\"], model='additive', period=12)\n",
    "result.plot()\n",
    "plt.suptitle('Solar radiation')\n",
    "plt.tight_layout()\n",
    "plt.show()"
   ]
  },
  {
   "cell_type": "code",
   "execution_count": null,
   "metadata": {},
   "outputs": [],
   "source": [
    "df_prices = pd.read_csv('data/' + files[1], sep=';')\n",
    "df_realized_supply = pd.read_csv('data/' + files[2], sep=';')\n",
    "df_installed_cp = pd.read_csv('data/' + files[3], sep=';')\n",
    "df_realized_demand = pd.read_csv('data/' + files[4], sep=';')"
   ]
  },
  {
   "cell_type": "code",
   "execution_count": null,
   "metadata": {},
   "outputs": [],
   "source": [
    "dates = pd.date_range(start='1/1/2019', periods=3*12, freq='M')\n",
    "radiation = np.sin(2 * np.pi * np.arange(1, len(dates)+1) / 12) * 1000 + np.random.normal(0, 100, len(dates))\n",
    "df_solar = pd.DataFrame({'Date': dates, 'ssr': radiation})\n",
    "df_solar.set_index('Date', inplace=True)\n",
    "\n",
    "# Seasonal decomposition\n",
    "result = seasonal_decompose(df_solar['ssr'], model='additive', period=12)\n",
    "result.plot()\n",
    "plt.suptitle('Solar Radiation')\n",
    "plt.tight_layout()\n",
    "plt.show()"
   ]
  },
  {
   "cell_type": "code",
   "execution_count": null,
   "metadata": {},
   "outputs": [],
   "source": [
    "df_realized_supply"
   ]
  },
  {
   "cell_type": "code",
   "execution_count": null,
   "metadata": {},
   "outputs": [],
   "source": [
    "df_realized_supply[\"timestamps\"] = pd.to_datetime(df_realized_supply[\"Date from\"])\n",
    "fig = go.Figure()\n",
    "x_axis = df_realized_supply[\"timestamps\"]\n",
    "\n",
    "fig.add_trace(go.Scatter(x=x_axis, y=df_realized_supply[\"Photovoltaic [MW]\"],\n",
    "                    mode='lines',\n",
    "                    name='solar'))\n",
    "\n",
    "fig.show()"
   ]
  },
  {
   "cell_type": "code",
   "execution_count": null,
   "metadata": {},
   "outputs": [],
   "source": [
    "df_realized_supply = pd.read_csv('data/' + files[2], sep=';')\n",
    "df_realized_supply[\"time\"]= pd.to_datetime(df_realized_supply[\"Date from\"])\n",
    "df_realized_supply['month_year'] = df_realized_supply['time'].dt.strftime('%Y-%m')\n",
    "# drop everything besides PhotoVoltaic\n",
    "\n",
    "df_realized_supply.columns"
   ]
  },
  {
   "cell_type": "code",
   "execution_count": null,
   "metadata": {},
   "outputs": [],
   "source": [
    "def preprocess_ssr(value):\n",
    "    value = value.split(',')[0]\n",
    "    value = value.replace('.', '')\n",
    "    return float(value)\n"
   ]
  },
  {
   "cell_type": "code",
   "execution_count": null,
   "metadata": {},
   "outputs": [],
   "source": [
    "df_realized_supply[\"Photovoltaic [MW]\"].unique()"
   ]
  },
  {
   "cell_type": "code",
   "execution_count": null,
   "metadata": {},
   "outputs": [],
   "source": [
    "\n",
    "df_realized_supply[\"Photovoltaic [MW]\"].unique()\n",
    "\n",
    "df_realized_supply[\"Photovoltaic [MW]\"] = df_realized_supply[\"Photovoltaic [MW]\"].apply(preprocess_ssr)\n",
    "df_realized_supply[\"Wind Onshore [MW]\"] = df_realized_supply[\"Wind Onshore [MW]\"].apply(preprocess_ssr)\n"
   ]
  },
  {
   "cell_type": "code",
   "execution_count": null,
   "metadata": {},
   "outputs": [],
   "source": [
    "df_realized_supply[\"Photovoltaic [MW]\"].unique()"
   ]
  },
  {
   "cell_type": "code",
   "execution_count": null,
   "metadata": {},
   "outputs": [],
   "source": [
    "\n",
    "monthly_avg_df = df_realized_supply.groupby('month_year').agg({\"Photovoltaic [MW]\": \"mean\", \"Wind Onshore [MW]\": \"mean\"}).reset_index()\n",
    "monthly_avg_df.sort_values(by=\"month_year\", inplace=True)\n",
    "monthly_avg_df"
   ]
  },
  {
   "cell_type": "code",
   "execution_count": null,
   "metadata": {},
   "outputs": [],
   "source": [
    "fig = go.Figure()\n",
    "x_axis = monthly_avg_df[\"month_year\"]\n",
    "\n",
    "fig.add_trace(go.Scatter(x=x_axis, y=monthly_avg_df[\"Photovoltaic [MW]\"],\n",
    "                    mode='lines',\n",
    "                    name='solar'))\n",
    "\n",
    "fig.add_trace(go.Scatter(x=x_axis, y=monthly_avg_df[\"Wind Onshore [MW]\"],\n",
    "                    mode='lines',\n",
    "                    name='wind'))\n",
    "\n",
    "fig.show()"
   ]
  },
  {
   "cell_type": "markdown",
   "metadata": {},
   "source": [
    "# Kalmann Filter"
   ]
  },
  {
   "cell_type": "markdown",
   "metadata": {},
   "source": [
    "## Initial Estimate\n",
    "\n",
    "$$\\hat{\\mathbf{x}}_{0,0}, \\quad \\mathbf{P}_{0,0}$$\n",
    "\n",
    "### Extrapolate (\"Predict\")\n",
    "\n",
    "1. Extrapolate the state:\n",
    "   \n",
    "   $$ \\hat{\\mathbf{x}}_{n+1,n} = \\mathbf{F} \\hat{\\mathbf{x}}_{n,n} + \\mathbf{G} \\mathbf{u}_n $$\n",
    "   \n",
    "\n",
    "2. Extrapolate uncertainty:\n",
    "   \n",
    "   $$\\mathbf{P}_{n+1,n} = \\mathbf{F} \\mathbf{P}_{n,n} \\mathbf{F}^T + \\mathbf{Q}$$\n",
    "\n",
    "<br>\n",
    "We extraplolate the state at time n and the uncertainty to the next time step. Our guesses can be updated with the measurement that takes place later on.\n",
    "<br>\n",
    "\n",
    "## Measurement Update (\"Correct\")\n",
    "After we have the measurement at time n+1, we can update our estimates with the measurement.\n",
    "\n",
    "1. Compute the Kalman Gain:\n",
    "\n",
    "   $$\\mathbf{K}_n = \\mathbf{P}_{n,n-1} \\mathbf{H}^T (\\mathbf{H} \\mathbf{P}_{n,n-1} \\mathbf{H}^T + \\mathbf{R}_n)^{-1}$$\n",
    "\n",
    "\n",
    "2. Update estimate with measurement:\n",
    "   \n",
    "$$   \\hat{\\mathbf{x}}_{n,n} = \\hat{\\mathbf{x}}_{n,n-1} + \\mathbf{K}_n (\\mathbf{z}_n - \\mathbf{H} \\hat{\\mathbf{x}}_{n,n-1})$$\n",
    "   \n",
    "\n",
    "3. Update the estimate uncertainty:\n",
    "\n",
    "   $$\\mathbf{P}_{n,n} = (\\mathbf{I} - \\mathbf{K}_n \\mathbf{H}) \\mathbf{P}_{n,n-1} (\\mathbf{I} - \\mathbf{K}_n \\mathbf{H})^T + \\mathbf{K}_n \\mathbf{R}_n \\mathbf{K}_n^T$$ \n",
    "   bzw.\n",
    "   \n",
    "   $$ \\mathbf{P}_{n,n} = (\\mathbf{I} - \\mathbf{K}_n \\mathbf{H}) \\mathbf{P}_{n,n-1}$$\n",
    "   \n",
    "\n",
    "\n"
   ]
  },
  {
   "cell_type": "markdown",
   "metadata": {},
   "source": []
  },
  {
   "cell_type": "markdown",
   "metadata": {},
   "source": [
    "The Kalman gain basically makes nothing but variance in estimate divided by variance in estimate + variance in measurement. If the Kalman gain is close to zero, this means that the measurement uncertainty is high and the estimate uncertainty is low. So we gice more weight to the estimate and only small weight to the measurement itself. For the opposite case, we trust the measurement and give it hence more weight."
   ]
  },
  {
   "cell_type": "markdown",
   "metadata": {},
   "source": [
    "After having the Kalman gain, we can update our estimate with the measurement. We can also update the uncertainty of our estimate, as we had extraploated the uncertainty in the first step which we can now update. The reason for the equaiton to look like that is a long derivation. WHat we basically do is we know our estimate update. Because of linearity, we can plug in the variances instead of the estimate itself. After that, we want to minimize the variance of our estimate (kinda equals minimizing the MSE loss, having less variance means we are more certain about our estimate). Setting that equation to 0 and doing fancy stuff, we get the equation above."
   ]
  },
  {
   "cell_type": "markdown",
   "metadata": {},
   "source": [
    "After doing all these steps, we repeat the process. Our new estimates become our prior estimates for the next time step. There, we again extrapolate the state and uncertainty and update our estimates with the measurement. "
   ]
  },
  {
   "cell_type": "markdown",
   "metadata": {},
   "source": [
    "# Problem\n",
    "- Ich hab keine Ahnunng wie ich F machen soll, geschweige denn Q\n",
    "- Wie sieht das lineare Modell aus für das predicten des States ??\n",
    "- Wie sieht mein State überhaupt aus ? hab ich u100,v100, wind on+offshore ? theoretisch hab ich on+offshore ja nicht, das ist das was ich ja durch das lineare modell durch u100 und v100 rausbekomme\n",
    "\n",
    "## Regressionsanlayse ??"
   ]
  },
  {
   "cell_type": "markdown",
   "metadata": {},
   "source": [
    "$$ Power (W) = \\frac{1}{2} \\times ρ \\times A \\times v^3 $$\n",
    "\n",
    "\n"
   ]
  },
  {
   "cell_type": "markdown",
   "metadata": {},
   "source": []
  },
  {
   "cell_type": "markdown",
   "metadata": {},
   "source": [
    "- Power = Watts\n",
    "- ρ (rho, a Greek letter) = density of the air in kg/m3\n",
    "- A = cross-sectional area of the wind in m2\n",
    "- v = velocity of the wind in m/s>\n"
   ]
  },
  {
   "cell_type": "markdown",
   "metadata": {},
   "source": []
  },
  {
   "cell_type": "code",
   "execution_count": null,
   "metadata": {},
   "outputs": [],
   "source": []
  },
  {
   "cell_type": "code",
   "execution_count": null,
   "metadata": {},
   "outputs": [],
   "source": [
    "import seaborn as sns\n",
    "from statsmodels.tsa.seasonal import seasonal_decompose"
   ]
  },
  {
   "cell_type": "code",
   "execution_count": null,
   "metadata": {},
   "outputs": [],
   "source": []
  }
 ],
 "metadata": {
  "kernelspec": {
   "display_name": "my_env",
   "language": "python",
   "name": "python3"
  },
  "language_info": {
   "codemirror_mode": {
    "name": "ipython",
    "version": 3
   },
   "file_extension": ".py",
   "mimetype": "text/x-python",
   "name": "python",
   "nbconvert_exporter": "python",
   "pygments_lexer": "ipython3",
   "version": "3.11.5"
  }
 },
 "nbformat": 4,
 "nbformat_minor": 2
}
