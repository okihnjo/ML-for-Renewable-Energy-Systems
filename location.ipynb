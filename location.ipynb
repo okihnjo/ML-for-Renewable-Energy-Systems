{
 "cells": [
  {
   "cell_type": "code",
   "execution_count": null,
   "metadata": {},
   "outputs": [],
   "source": [
    "import pandas as pd\n",
    "import numpy as np\n",
    "import matplotlib.pyplot as plt\n",
    "import os\n",
    "import math"
   ]
  },
  {
   "cell_type": "code",
   "execution_count": null,
   "metadata": {},
   "outputs": [],
   "source": [
    "# read multiple csv from data folder\n",
    "files = []\n",
    "for file in os.listdir('data'):\n",
    "    if file.endswith('.csv'):\n",
    "        files.append(file)\n",
    "print(files)"
   ]
  },
  {
   "cell_type": "code",
   "execution_count": null,
   "metadata": {},
   "outputs": [],
   "source": [
    "df = pd.read_csv('data/' + files[0])"
   ]
  },
  {
   "cell_type": "code",
   "execution_count": null,
   "metadata": {},
   "outputs": [],
   "source": [
    "# Calculate midpoints\n",
    "mid_latitude = df['latitude'].mean()\n",
    "mid_longitude = df['longitude'].mean()\n",
    "\n",
    "def categorize_location(row):\n",
    "    if row['latitude'] >= mid_latitude and row['longitude'] <= mid_longitude:\n",
    "        return 'top_left'\n",
    "    elif row['latitude'] >= mid_latitude and row['longitude'] > mid_longitude:\n",
    "        return 'top_right'\n",
    "    elif row['latitude'] < mid_latitude and row['longitude'] <= mid_longitude:\n",
    "        return 'bottom_left'\n",
    "    else:\n",
    "        return 'bottom_right'\n",
    "\n",
    "# Apply the function to create the new 'location' column\n",
    "df['location'] = df.apply(categorize_location, axis=1)\n",
    "df['location']\n",
    "\n",
    "\n"
   ]
  },
  {
   "cell_type": "code",
   "execution_count": null,
   "metadata": {},
   "outputs": [],
   "source": [
    "# plot each location seperately\n",
    "fig, ax = plt.subplots()\n",
    "for i in df['location'].unique():\n",
    "    temp_df = df[df['location'] == i]\n",
    "    ax.scatter(temp_df['longitude'], temp_df['latitude'], label=i)\n",
    "ax.legend()\n",
    "plt.show()"
   ]
  },
  {
   "cell_type": "code",
   "execution_count": null,
   "metadata": {},
   "outputs": [],
   "source": []
  }
 ],
 "metadata": {
  "kernelspec": {
   "display_name": "my_env",
   "language": "python",
   "name": "python3"
  },
  "language_info": {
   "codemirror_mode": {
    "name": "ipython",
    "version": 3
   },
   "file_extension": ".py",
   "mimetype": "text/x-python",
   "name": "python",
   "nbconvert_exporter": "python",
   "pygments_lexer": "ipython3",
   "version": "3.10.13"
  }
 },
 "nbformat": 4,
 "nbformat_minor": 2
}
