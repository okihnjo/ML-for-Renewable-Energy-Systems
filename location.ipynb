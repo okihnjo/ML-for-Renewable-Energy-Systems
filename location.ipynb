{
 "cells": [
  {
   "cell_type": "code",
   "execution_count": null,
   "metadata": {},
   "outputs": [],
   "source": [
    "import pandas as pd\n",
    "import numpy as np\n",
    "import matplotlib.pyplot as plt\n",
    "import os\n",
    "import math"
   ]
  },
  {
   "cell_type": "markdown",
   "metadata": {},
   "source": [
    "# This file is responsible for plotting the weather stations and germany.\n",
    "<p> External files were used</p>"
   ]
  },
  {
   "cell_type": "code",
   "execution_count": null,
   "metadata": {},
   "outputs": [],
   "source": [
    "# read multiple csv from data folder\n",
    "files = []\n",
    "for file in os.listdir('data'):\n",
    "    if file.endswith('.csv'):\n",
    "        files.append(file)\n",
    "print(files)"
   ]
  },
  {
   "cell_type": "code",
   "execution_count": null,
   "metadata": {},
   "outputs": [],
   "source": [
    "df = pd.read_csv('data/' + files[0])"
   ]
  },
  {
   "cell_type": "code",
   "execution_count": null,
   "metadata": {},
   "outputs": [],
   "source": [
    "mid_latitude = df['latitude'].mean()\n",
    "mid_longitude = df['longitude'].mean()\n",
    "\n",
    "def categorize_location(row):\n",
    "    if row['latitude'] >= mid_latitude and row['longitude'] <= mid_longitude:\n",
    "        return 'top_left'\n",
    "    elif row['latitude'] >= mid_latitude and row['longitude'] > mid_longitude:\n",
    "        return 'top_right'\n",
    "    elif row['latitude'] < mid_latitude and row['longitude'] <= mid_longitude:\n",
    "        return 'bottom_left'\n",
    "    else:\n",
    "        return 'bottom_right'\n",
    "\n",
    "df['location'] = df.apply(categorize_location, axis=1)\n",
    "df['location']\n",
    "\n",
    "\n"
   ]
  },
  {
   "cell_type": "code",
   "execution_count": null,
   "metadata": {},
   "outputs": [],
   "source": [
    "import geopandas as gpd\n",
    "from shapely.geometry import Point\n",
    "path_to_germany = \"./data/vg2500_geo84/vg2500_bld.shp\"\n",
    "germany_gdf = gpd.read_file(path_to_germany)"
   ]
  },
  {
   "cell_type": "code",
   "execution_count": null,
   "metadata": {},
   "outputs": [],
   "source": [
    "germany_gdf.plot()"
   ]
  },
  {
   "cell_type": "code",
   "execution_count": null,
   "metadata": {},
   "outputs": [],
   "source": [
    "print(\"CRS for Germany shapefile:\", germany_gdf.crs)"
   ]
  },
  {
   "cell_type": "code",
   "execution_count": null,
   "metadata": {},
   "outputs": [],
   "source": [
    "geometry = [Point(xy) for xy in zip(df.longitude, df.latitude)]\n",
    "geo_df = gpd.GeoDataFrame(df, geometry=geometry)"
   ]
  },
  {
   "cell_type": "code",
   "execution_count": null,
   "metadata": {},
   "outputs": [],
   "source": [
    "geo_df.set_crs(germany_gdf.crs, inplace=True)"
   ]
  },
  {
   "cell_type": "code",
   "execution_count": null,
   "metadata": {},
   "outputs": [],
   "source": [
    "fig, ax = plt.subplots()\n",
    "germany_gdf.plot(ax=ax, color='lightgrey')\n",
    "\n",
    "geo_df.plot(ax=ax, marker='o', color='red', markersize=5)\n",
    "\n",
    "plt.show()"
   ]
  },
  {
   "cell_type": "code",
   "execution_count": null,
   "metadata": {},
   "outputs": [],
   "source": []
  }
 ],
 "metadata": {
  "kernelspec": {
   "display_name": "my_env",
   "language": "python",
   "name": "python3"
  },
  "language_info": {
   "codemirror_mode": {
    "name": "ipython",
    "version": 3
   },
   "file_extension": ".py",
   "mimetype": "text/x-python",
   "name": "python",
   "nbconvert_exporter": "python",
   "pygments_lexer": "ipython3",
   "version": "3.11.5"
  }
 },
 "nbformat": 4,
 "nbformat_minor": 2
}
