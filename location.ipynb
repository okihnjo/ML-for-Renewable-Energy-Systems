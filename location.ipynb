{
 "cells": [
  {
   "cell_type": "code",
   "execution_count": 1,
   "metadata": {},
   "outputs": [],
   "source": [
    "import pandas as pd\n",
    "import numpy as np\n",
    "import matplotlib.pyplot as plt\n",
    "import os\n",
    "import math"
   ]
  },
  {
   "cell_type": "code",
   "execution_count": 2,
   "metadata": {},
   "outputs": [
    {
     "name": "stdout",
     "output_type": "stream",
     "text": [
      "['Weather_Data_Germany.csv', 'Prices_Europe.csv', 'Realised_Supply_Germany.csv', 'Installed_Capacity_Germany.csv', 'Reaslised_Demand_Germany.csv']\n"
     ]
    }
   ],
   "source": [
    "# read multiple csv from data folder\n",
    "files = []\n",
    "for file in os.listdir('data'):\n",
    "    if file.endswith('.csv'):\n",
    "        files.append(file)\n",
    "print(files)"
   ]
  },
  {
   "cell_type": "code",
   "execution_count": 3,
   "metadata": {},
   "outputs": [],
   "source": [
    "df = pd.read_csv('data/' + files[0])"
   ]
  },
  {
   "cell_type": "code",
   "execution_count": 4,
   "metadata": {},
   "outputs": [
    {
     "data": {
      "text/plain": [
       "0              top_left\n",
       "1              top_left\n",
       "2              top_left\n",
       "3              top_left\n",
       "4           bottom_left\n",
       "               ...     \n",
       "2104315       top_right\n",
       "2104316    bottom_right\n",
       "2104317    bottom_right\n",
       "2104318    bottom_right\n",
       "2104319    bottom_right\n",
       "Name: location, Length: 2104320, dtype: object"
      ]
     },
     "execution_count": 4,
     "metadata": {},
     "output_type": "execute_result"
    }
   ],
   "source": [
    "# Calculate midpoints\n",
    "mid_latitude = df['latitude'].mean()\n",
    "mid_longitude = df['longitude'].mean()\n",
    "\n",
    "def categorize_location(row):\n",
    "    if row['latitude'] >= mid_latitude and row['longitude'] <= mid_longitude:\n",
    "        return 'top_left'\n",
    "    elif row['latitude'] >= mid_latitude and row['longitude'] > mid_longitude:\n",
    "        return 'top_right'\n",
    "    elif row['latitude'] < mid_latitude and row['longitude'] <= mid_longitude:\n",
    "        return 'bottom_left'\n",
    "    else:\n",
    "        return 'bottom_right'\n",
    "\n",
    "# Apply the function to create the new 'location' column\n",
    "df['location'] = df.apply(categorize_location, axis=1)\n",
    "df['location']\n",
    "\n",
    "\n"
   ]
  },
  {
   "cell_type": "code",
   "execution_count": 5,
   "metadata": {},
   "outputs": [
    {
     "name": "stderr",
     "output_type": "stream",
     "text": [
      "/Users/okancoskun/anaconda3/envs/my_env/lib/python3.10/site-packages/IPython/core/pylabtools.py:152: UserWarning: Creating legend with loc=\"best\" can be slow with large amounts of data.\n",
      "  fig.canvas.print_figure(bytes_io, **kw)\n"
     ]
    },
    {
     "data": {
      "image/png": "[encoded data removed]",
      "text/plain": [
       "<Figure size 640x480 with 1 Axes>"
      ]
     },
     "metadata": {},
     "output_type": "display_data"
    }
   ],
   "source": [
    "# plot each location seperately\n",
    "fig, ax = plt.subplots()\n",
    "for i in df['location'].unique():\n",
    "    temp_df = df[df['location'] == i]\n",
    "    ax.scatter(temp_df['longitude'], temp_df['latitude'], label=i)\n",
    "ax.legend()\n",
    "plt.show()"
   ]
  },
  {
   "cell_type": "code",
   "execution_count": null,
   "metadata": {},
   "outputs": [],
   "source": []
  }
 ],
 "metadata": {
  "kernelspec": {
   "display_name": "my_env",
   "language": "python",
   "name": "python3"
  },
  "language_info": {
   "codemirror_mode": {
    "name": "ipython",
    "version": 3
   },
   "file_extension": ".py",
   "mimetype": "text/x-python",
   "name": "python",
   "nbconvert_exporter": "python",
   "pygments_lexer": "ipython3",
   "version": "3.10.13"
  }
 },
 "nbformat": 4,
 "nbformat_minor": 2
}
