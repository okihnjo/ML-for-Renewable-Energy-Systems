{
 "cells": [
  {
   "cell_type": "code",
   "execution_count": null,
   "metadata": {},
   "outputs": [],
   "source": [
    "import numpy as np\n",
    "import pandas as pd\n",
    "import matplotlib.pyplot as plt\n",
    "from darts import TimeSeries\n",
    "from darts.models import ExponentialSmoothing\n",
    "from filterpy.kalman import KalmanFilter\n",
    "\n",
    "# Erstellen von Beispieldaten\n",
    "np.random.seed(42)\n",
    "dates = pd.date_range(start=\"2019-01-01\", periods=1000, freq='D')\n",
    "data = 20 + 5 * np.sin(np.linspace(0, 20, 1000)) + np.random.normal(0, 2, 1000)\n",
    "\n",
    "# Daten als pandas DataFrame\n",
    "df = pd.DataFrame({'date': dates, 'value': data})\n",
    "\n",
    "\n",
    "# Daten als pandas DataFrame\n",
    "\n",
    "# Plotten der Beispieldaten\n",
    "plt.figure(figsize=(12, 6))\n",
    "plt.plot(df.date, df['value'], label='Original Data')\n",
    "plt.legend()\n",
    "plt.show()\n",
    "\n"
   ]
  },
  {
   "cell_type": "code",
   "execution_count": null,
   "metadata": {},
   "outputs": [],
   "source": [
    "\n",
    "df.columns = df.columns.str.replace(' ', '')\n",
    "df.columns = df.columns.str.strip()\n",
    "df"
   ]
  },
  {
   "cell_type": "code",
   "execution_count": null,
   "metadata": {},
   "outputs": [],
   "source": [
    "series.components"
   ]
  },
  {
   "cell_type": "code",
   "execution_count": null,
   "metadata": {},
   "outputs": [],
   "source": [
    "series[\"value\"]"
   ]
  },
  {
   "cell_type": "code",
   "execution_count": null,
   "metadata": {},
   "outputs": [],
   "source": [
    "# Holt-Winters Exponential Smoothing mit darts\n",
    "series = TimeSeries.from_dataframe(df, 'date', 'value')\n",
    "model = ExponentialSmoothing(seasonal_periods=365)\n",
    "model"
   ]
  },
  {
   "cell_type": "code",
   "execution_count": null,
   "metadata": {},
   "outputs": [],
   "source": [
    "\n",
    "\n",
    "\n",
    "model.fit(series)\n",
    "hw_forecast = model.predict(len(series))\n",
    "\n",
    "# Plotten der HWT-ES Vorhersage\n",
    "plt.figure(figsize=(12, 6))\n",
    "# series.plot(label='Original Data')\n",
    "hw_forecast.plot(label='Holt-Winters Forecast', lw=3)\n",
    "plt.legend()\n",
    "plt.show()\n",
    "\n"
   ]
  },
  {
   "cell_type": "code",
   "execution_count": null,
   "metadata": {},
   "outputs": [],
   "source": [
    "# Kalman-Filter\n",
    "# Initialisierung des Kalman-Filters\n",
    "kf = KalmanFilter(dim_x=2, dim_z=1)\n",
    "kf.x = np.array([0., 1.])  # Initialer Zustand (Level und Trend)\n",
    "kf.F = np.array([[1., 1.], [0., 1.]])  # Übergangsmatrix\n",
    "kf.H = np.array([[1., 0.]])  # Messmatrix\n",
    "kf.P *= 1000.  # Kovarianzmatrix des Schätzfehlers\n",
    "kf.R = 5  # Messrauschen\n",
    "kf.Q = np.array([[0.1, 0.1], [0.1, 0.1]])  # Prozessrauschen\n",
    "\n",
    "kalman_forecast = []\n",
    "for value in df['value']:\n",
    "    kf.predict()\n",
    "    kf.update([value])\n",
    "    kalman_forecast.append(kf.x[0])\n",
    "\n",
    "# Plotten der Kalman-Filter Vorhersage\n",
    "plt.figure(figsize=(12, 6))\n",
    "plt.plot(df.index, df['value'], label='Original Data')\n",
    "plt.plot(df.index, kalman_forecast, label='Kalman Filter Forecast')\n",
    "plt.legend()\n",
    "plt.show()"
   ]
  },
  {
   "cell_type": "code",
   "execution_count": null,
   "metadata": {},
   "outputs": [],
   "source": []
  },
  {
   "cell_type": "code",
   "execution_count": null,
   "metadata": {},
   "outputs": [],
   "source": [
    "import numpy as np\n",
    "import pandas as pd\n",
    "import matplotlib.pyplot as plt\n",
    "from darts import TimeSeries\n",
    "from darts.models import ExponentialSmoothing\n",
    "from filterpy.kalman import KalmanFilter\n",
    "\n",
    "# Erstellen von Beispieldaten\n",
    "\n",
    "# Plotten der Beispieldaten\n",
    "plt.figure(figsize=(12, 6))\n",
    "plt.plot(df['date'], df['value'], label='Original Data')\n",
    "plt.legend()\n",
    "plt.show()\n",
    "\n",
    "# Holt-Winters Exponential Smoothing mit darts\n",
    "series = TimeSeries.from_dataframe(df, time_col='date', value_cols='value')\n",
    "model = ExponentialSmoothing( seasonal_periods=365)\n",
    "model.fit(series)\n",
    "hw_forecast = model.predict(len(series))\n",
    "\n",
    "# Plotten der HWT-ES Vorhersage\n",
    "plt.figure(figsize=(12, 6))\n",
    "series.plot(label='Original Data')\n",
    "hw_forecast.plot(label='Holt-Winters Forecast')\n",
    "plt.legend()\n",
    "plt.show()\n",
    "\n",
    "# Holen der letzten Werte für Initialisierung des Kalman-Filters\n",
    "last_level = series.values()[-1][0]\n",
    "last_trend = (series.values()[-1][0] - series.values()[-2][0])  # Einfache Schätzung des Trends\n",
    "\n",
    "# Initialisierung des Kalman-Filters basierend auf HWT-ES\n",
    "kf = KalmanFilter(dim_x=2, dim_z=1)  # Hier verwenden wir Level und Trend als Zustandsvariablen\n",
    "kf.x = np.array([last_level, last_trend])  # Initialer Zustand basierend auf HWT-ES\n",
    "kf.F = np.array([[1, 1], [0, 1]])  # Übergangsmatrix angepasst\n",
    "kf.H = np.array([[1, 0]])  # Messmatrix, die nur Level misst\n",
    "kf.P *= 1000.  # Kovarianzmatrix des Schätzfehlers\n",
    "kf.R = 5  # Messrauschen\n",
    "kf.Q = np.eye(2) * 0.1  # Prozessrauschen\n",
    "\n",
    "kalman_forecast = []\n",
    "for value in df['value']:\n",
    "    kf.predict()\n",
    "    kf.update([value])\n",
    "    kalman_forecast.append(kf.x[0])  # Level\n",
    "\n",
    "# Plotten der Kalman-Filter Vorhersage\n",
    "plt.figure(figsize=(12, 6))\n",
    "# plt.plot(df['date'], df['value'], label='Original Data')\n",
    "plt.plot(df['date'], kalman_forecast, label='Kalman Filter Forecast')\n",
    "plt.legend()\n",
    "plt.show()\n"
   ]
  },
  {
   "cell_type": "code",
   "execution_count": null,
   "metadata": {},
   "outputs": [],
   "source": [
    "len(series.values())"
   ]
  },
  {
   "cell_type": "code",
   "execution_count": null,
   "metadata": {},
   "outputs": [],
   "source": [
    "last_level"
   ]
  },
  {
   "cell_type": "code",
   "execution_count": null,
   "metadata": {},
   "outputs": [],
   "source": [
    "import numpy as np\n",
    "from pykalman import KalmanFilter\n",
    "\n",
    "# Generate synthetic data (replace with your actual data)\n",
    "n_timesteps = 1000\n",
    "t = np.arange(n_timesteps)\n",
    "data = 10 + 0.5 * t + 10 * np.sin(2 * np.pi * t / 50) + np.random.normal(0, 1, n_timesteps)\n",
    "\n",
    "# Initial estimates for level, trend, and seasonality\n",
    "initial_state_mean = [data[0], 0, 0]\n",
    "\n",
    "# State transition matrix\n",
    "transition_matrix = [[1, 1, 0],\n",
    "                     [0, 1, 0],\n",
    "                     [0, 0, 1]]\n",
    "\n",
    "# Observation matrix\n",
    "observation_matrix = [1, 0, 1]\n",
    "\n",
    "# Kalman Filter\n",
    "kf = KalmanFilter(transition_matrices=transition_matrix,\n",
    "                  observation_matrices=observation_matrix,\n",
    "                  initial_state_mean=initial_state_mean)\n",
    "\n",
    "# Fit and smooth\n",
    "state_means, state_covariances = kf.smooth(data)\n",
    "\n",
    "# Plot\n",
    "import matplotlib.pyplot as plt\n",
    "\n",
    "plt.figure(figsize=(15, 6))\n",
    "plt.plot(data, label='Observed')\n",
    "plt.plot(state_means[:, 0], label='Level (l_t)')\n",
    "plt.plot(state_means[:, 2], label='Seasonality (s_t)')\n",
    "plt.legend()\n",
    "plt.show()\n"
   ]
  },
  {
   "cell_type": "code",
   "execution_count": null,
   "metadata": {},
   "outputs": [],
   "source": []
  }
 ],
 "metadata": {
  "kernelspec": {
   "display_name": "my_env",
   "language": "python",
   "name": "python3"
  },
  "language_info": {
   "codemirror_mode": {
    "name": "ipython",
    "version": 3
   },
   "file_extension": ".py",
   "mimetype": "text/x-python",
   "name": "python",
   "nbconvert_exporter": "python",
   "pygments_lexer": "ipython3",
   "version": "3.10.13"
  }
 },
 "nbformat": 4,
 "nbformat_minor": 2
}
