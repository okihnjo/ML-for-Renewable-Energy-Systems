{
 "cells": [
  {
   "cell_type": "code",
   "execution_count": null,
   "metadata": {},
   "outputs": [],
   "source": [
    "import pandas as pd\n",
    "import numpy as np\n",
    "import matplotlib.pyplot as plt\n",
    "import os\n",
    "import math"
   ]
  },
  {
   "cell_type": "markdown",
   "metadata": {},
   "source": [
    "Greenwich uc Time \n",
    "Time shifts - not on weather data though \n",
    "Realized supply Germany \n",
    "Installed capacity \n",
    "Total wind is what we care about - other stuff is not really relevant to the task \n",
    "Install capacity - 1 mega Watt large to be included, turbines that are installed could produce \n",
    "What is autoregressive ? \n",
    "\n",
    "We should be able to forecas one hour ahead \n",
    "U and v component are relevant - if you calculate euc distance between u and v 10 you get the speed \n",
    "Ssr - solar is important \n",
    "Is the method we used a hood method for the task ? - discussion, was the decision I made during the course good\n",
    "\n",
    "Neutrally present results, than opinion\n",
    "Interpretation on why something is the case, leave it to the discussion \n",
    "Boil down, what is the core message you want the reader to get\n",
    "Guide the reader through the paper "
   ]
  },
  {
   "cell_type": "code",
   "execution_count": null,
   "metadata": {},
   "outputs": [],
   "source": [
    "# read multiple csv from data folder\n",
    "files = []\n",
    "for file in os.listdir('data'):\n",
    "    if file.endswith('.csv'):\n",
    "        files.append(file)\n",
    "print(files)"
   ]
  },
  {
   "cell_type": "code",
   "execution_count": null,
   "metadata": {},
   "outputs": [],
   "source": [
    "df = pd.read_csv('data/' + files[0])"
   ]
  },
  {
   "cell_type": "code",
   "execution_count": null,
   "metadata": {},
   "outputs": [],
   "source": [
    "df"
   ]
  },
  {
   "cell_type": "code",
   "execution_count": null,
   "metadata": {},
   "outputs": [],
   "source": [
    "df.shape"
   ]
  },
  {
   "cell_type": "code",
   "execution_count": null,
   "metadata": {},
   "outputs": [],
   "source": [
    "plt.scatter(x=df['longitude'], y=df['latitude'])\n",
    "plt.show()"
   ]
  },
  {
   "cell_type": "code",
   "execution_count": null,
   "metadata": {},
   "outputs": [],
   "source": [
    "import geopandas as gpd\n",
    "from shapely.geometry import Point\n",
    "path_to_germany = \"./data/vg2500_geo84/vg2500_bld.shp\"\n",
    "germany_gdf = gpd.read_file(path_to_germany)"
   ]
  },
  {
   "cell_type": "code",
   "execution_count": null,
   "metadata": {},
   "outputs": [],
   "source": [
    "germany_gdf.plot()"
   ]
  },
  {
   "cell_type": "code",
   "execution_count": null,
   "metadata": {},
   "outputs": [],
   "source": [
    "print(\"CRS for Germany shapefile:\", germany_gdf.crs)"
   ]
  },
  {
   "cell_type": "code",
   "execution_count": null,
   "metadata": {},
   "outputs": [],
   "source": [
    "geometry = [Point(xy) for xy in zip(df.longitude, df.latitude)]\n",
    "geo_df = gpd.GeoDataFrame(df, geometry=geometry)"
   ]
  },
  {
   "cell_type": "code",
   "execution_count": null,
   "metadata": {},
   "outputs": [],
   "source": [
    "geo_df.set_crs(germany_gdf.crs, inplace=True)"
   ]
  },
  {
   "cell_type": "code",
   "execution_count": null,
   "metadata": {},
   "outputs": [],
   "source": [
    "fig, ax = plt.subplots()\n",
    "germany_gdf.plot(ax=ax, color='lightgrey')\n",
    "\n",
    "geo_df.plot(ax=ax, marker='o', color='red', markersize=5)\n",
    "\n",
    "plt.show()"
   ]
  },
  {
   "cell_type": "markdown",
   "metadata": {},
   "source": [
    "## Convert datetimes (column time)"
   ]
  },
  {
   "cell_type": "code",
   "execution_count": null,
   "metadata": {},
   "outputs": [],
   "source": [
    "df[\"timestamps\"] = pd.to_datetime(df[\"time\"])\n",
    "df[\"epoch_time\"] = (df['timestamps'] - pd.Timestamp(\"1970-01-01\")) // pd.Timedelta('1s')\n",
    "df = df.drop(columns=[\"timestamps\"])\n",
    "print(\"DataFrame with Epoch Time:\")\n",
    "df"
   ]
  },
  {
   "cell_type": "code",
   "execution_count": null,
   "metadata": {},
   "outputs": [],
   "source": [
    "df[\"windspeed\"] = np.sqrt(df['u10']**2 + df['v10']**2)"
   ]
  },
  {
   "cell_type": "code",
   "execution_count": null,
   "metadata": {},
   "outputs": [],
   "source": [
    "df.columns"
   ]
  },
  {
   "cell_type": "markdown",
   "metadata": {},
   "source": [
    "- **longitude, latitude**: Geografische Längen- und Breitengrade der Messpunkte oder Prognosepunkte.\n",
    "\n",
    "- **forecast_origin**: Datum und Uhrzeit, wann die Wettervorhersage erstellt wurde.\n",
    "\n",
    "- **time**: Datum und Uhrzeit, für die die Wettervorhersage gilt.\n",
    "\n",
    "- **cdir**: Oft eine Abkürzung für „Cloud Direction“ oder „Convection Direction“, die die Windrichtung in bestimmten Höhen angibt.\n",
    "\n",
    "- **z**: Normalerweise die geopotentielle Höhe, die die Höhe über dem Meeresspiegel in Bezug auf das geopotentielle Niveau anstelle des tatsächlichen Abstands angibt.\n",
    "\n",
    "- **msl**: \"Mean Sea Level Pressure\", also der mittlere Luftdruck auf Meereshöhe.\n",
    "\n",
    "- **blh**: \"Boundary Layer Height\", die Höhe der atmosphärischen Grenzschicht, was wichtig für viele Prozesse in der Meteorologie ist.\n",
    "\n",
    "- **tcc**: \"Total Cloud Cover\", der gesamte Wolkenbedeckungsgrad, ausgedrückt als Prozentsatz oder Bruchteil.\n",
    "\n",
    "- **u10, v10**: Windkomponenten (u und v) in 10 Metern Höhe. „u“ ist die Ost-West-Komponente und „v“ die Nord-Süd-Komponente.\n",
    "\n",
    "- **t2m**: \"Temperature at 2 meters\", die Lufttemperatur in 2 Metern Höhe über dem Boden.\n",
    "\n",
    "- **ssr**: \"Surface Solar Radiation\", die auf die Erdoberfläche eingestrahlte Sonnenenergie.\n",
    "\n",
    "- **tsr**: \"Top of Atmosphere Solar Radiation\", die am oberen Rand der Atmosphäre eingestrahlte Sonnenenergie.\n",
    "\n",
    "- **sund**: Wahrscheinlich eine Abkürzung für die Anzahl der Sonnenstunden oder Sonnendauer.\n",
    "\n",
    "- **tp**: \"Total Precipitation\", die Gesamtniederschlagsmenge über einen bestimmten Zeitraum.\n",
    "\n",
    "- **fsr**: Oft steht dies für \"Forecast Solar Radiation\", also die vorhergesagte Sonneneinstrahlung.\n",
    "\n",
    "- **u100, v100**: Ähnlich wie u10 und v10, aber für Windkomponenten in 100 Metern Höhe.\n"
   ]
  },
  {
   "cell_type": "markdown",
   "metadata": {},
   "source": [
    "## Lets plot the windspeed throughout the year"
   ]
  },
  {
   "cell_type": "code",
   "execution_count": null,
   "metadata": {},
   "outputs": [],
   "source": [
    "import plotly.graph_objects as go\n"
   ]
  },
  {
   "cell_type": "code",
   "execution_count": null,
   "metadata": {},
   "outputs": [],
   "source": [
    "fig = go.Figure()\n",
    "x_axis = df[\"time\"]\n",
    "\n",
    "fig.add_trace(go.Scatter(x=x_axis, y=df.windspeed,\n",
    "                    mode='lines',\n",
    "                    name='windspeed'))\n",
    "fig.add_trace(go.Scatter(x=x_axis, y=df.ssr,\n",
    "                    mode='lines',\n",
    "                    name='solar'))\n",
    "\n",
    "fig.show()\n",
    "\n",
    "\n",
    "\n"
   ]
  },
  {
   "cell_type": "markdown",
   "metadata": {},
   "source": [
    "## Nichts lineares \n",
    "- Mehr Wind muss nicht mehr Energie heissen - Turbinen hab kapa\n",
    "- Solar ebenso - ab 25 Grad (?) Limit erreicht, danach decrease glaub"
   ]
  },
  {
   "cell_type": "markdown",
   "metadata": {},
   "source": [
    "# Unsere Aufgabe\n",
    "Predicte wind und solar für die nächste Stunde anhand\n",
    "- Variablen suchen wir aus ? Wir haben aber den jetzigen Stand gegeben ?\n",
    "    - Sprich Uhrzeit, jetzigen Wind, wo wir uns befinden, Monat, wie Wind hatten wir davor ?\n",
    "- Dürfen wir selber Daten anreichern ? Wetter daten w.r.t Sonne, re"
   ]
  },
  {
   "cell_type": "markdown",
   "metadata": {},
   "source": [
    "----------"
   ]
  },
  {
   "cell_type": "code",
   "execution_count": null,
   "metadata": {},
   "outputs": [],
   "source": []
  },
  {
   "cell_type": "code",
   "execution_count": null,
   "metadata": {},
   "outputs": [],
   "source": []
  },
  {
   "cell_type": "code",
   "execution_count": null,
   "metadata": {},
   "outputs": [],
   "source": [
    "df_prices = pd.read_csv('data/' + files[1], sep=';')\n",
    "df_realized_supply = pd.read_csv('data/' + files[2], sep=';')\n",
    "df_installed_cp = pd.read_csv('data/' + files[3], sep=';')\n",
    "df_realized_demand = pd.read_csv('data/' + files[4], sep=';')"
   ]
  },
  {
   "cell_type": "code",
   "execution_count": null,
   "metadata": {},
   "outputs": [],
   "source": [
    "df_prices"
   ]
  },
  {
   "cell_type": "code",
   "execution_count": null,
   "metadata": {},
   "outputs": [],
   "source": [
    "df_realized_supply"
   ]
  },
  {
   "cell_type": "code",
   "execution_count": null,
   "metadata": {},
   "outputs": [],
   "source": [
    "df_realized_demand"
   ]
  },
  {
   "cell_type": "code",
   "execution_count": null,
   "metadata": {},
   "outputs": [],
   "source": []
  }
 ],
 "metadata": {
  "kernelspec": {
   "display_name": "my_env",
   "language": "python",
   "name": "python3"
  },
  "language_info": {
   "codemirror_mode": {
    "name": "ipython",
    "version": 3
   },
   "file_extension": ".py",
   "mimetype": "text/x-python",
   "name": "python",
   "nbconvert_exporter": "python",
   "pygments_lexer": "ipython3",
   "version": "3.11.5"
  }
 },
 "nbformat": 4,
 "nbformat_minor": 2
}
